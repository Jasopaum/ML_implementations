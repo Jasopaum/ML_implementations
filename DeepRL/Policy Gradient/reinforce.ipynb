{
 "cells": [
  {
   "cell_type": "code",
   "execution_count": 1,
   "metadata": {},
   "outputs": [],
   "source": [
    "import tensorflow as tf\n",
    "import numpy as np\n",
    "import gym"
   ]
  },
  {
   "cell_type": "code",
   "execution_count": 2,
   "metadata": {},
   "outputs": [],
   "source": [
    "def compute_discounted_rewards(rewards, gamma):\n",
    "    discounted_rewards = np.zeros_like(rewards, dtype=np.float)\n",
    "    cum = 0.\n",
    "    end_idx = len(rewards) - 1\n",
    "    \n",
    "    for i, r in enumerate(reversed(rewards)):\n",
    "        cum = gamma * cum + r\n",
    "        discounted_rewards[end_idx - i] = cum\n",
    "        \n",
    "    discounted_rewards -= np.mean(discounted_rewards)\n",
    "    discounted_rewards /= np.std(discounted_rewards)\n",
    "            \n",
    "    return discounted_rewards"
   ]
  },
  {
   "cell_type": "code",
   "execution_count": 3,
   "metadata": {},
   "outputs": [],
   "source": [
    "class PolicyGradientGraph():\n",
    "    def __init__(self, state_size, nb_actions, learning_rate, scope_name):\n",
    "        self.state_size = state_size\n",
    "        self.nb_actions = nb_actions\n",
    "        self.learning_rate = learning_rate\n",
    "        self.scope_name = scope_name\n",
    "        \n",
    "        with tf.variable_scope(self.scope_name):\n",
    "            self.input = tf.placeholder(tf.float32, (None, self.state_size), name=\"input\")\n",
    "            self.action = tf.placeholder(tf.float32, (None, self.nb_actions), name=\"action\")\n",
    "            \n",
    "            self.discounted_reward = tf.placeholder(tf.float32, (None,), name=\"discounted_reward\")\n",
    "            \n",
    "            self.fc1 = tf.layers.dense(self.input,\n",
    "                                       10,\n",
    "                                       activation=tf.nn.relu,\n",
    "                                       kernel_initializer=tf.contrib.layers.xavier_initializer(),\n",
    "                                       name=\"fc1\")\n",
    "            \n",
    "            self.fc2 = tf.layers.dense(self.fc1,\n",
    "                                       self.nb_actions,\n",
    "                                       activation=tf.nn.relu,\n",
    "                                       kernel_initializer=tf.contrib.layers.xavier_initializer(),\n",
    "                                       name=\"fc2\")\n",
    "\n",
    "            self.fc3 = tf.layers.dense(self.fc2,\n",
    "                                       self.nb_actions,\n",
    "                                       activation=None,\n",
    "                                       kernel_initializer=tf.contrib.layers.xavier_initializer(),\n",
    "                                       name=\"fc3\")\n",
    "            \n",
    "            self.output_distribution = tf.nn.softmax(self.fc3)\n",
    "            \n",
    "            # Compute negative log-likelihood\n",
    "            #self.neg_log_prob = tf.nn.softmax_cross_entropy_with_logits_v2(self.fc3,\n",
    "            #                                                               self.action)\n",
    "            self.log_likelihood = tf.reduce_sum(tf.multiply(tf.math.log(self.output_distribution),\n",
    "                                                            self.action),\n",
    "                                                axis=1)\n",
    "            self.neg_log_likelihood = tf.math.negative(self.log_likelihood)\n",
    "\n",
    "            self.loss = tf.reduce_mean(self.neg_log_likelihood * self.discounted_reward)\n",
    "            \n",
    "            # Optimization operation\n",
    "            self.optimizer = tf.train.AdamOptimizer(self.learning_rate)\n",
    "            #optimizer = tf.contrib.estimator.clip_gradients_by_norm(optimizer, clip_norm=2.0)            \n",
    "            self.train_op = self.optimizer.minimize(self.loss)"
   ]
  },
  {
   "cell_type": "code",
   "execution_count": 4,
   "metadata": {},
   "outputs": [],
   "source": [
    "class PolicyGradientTrainer:\n",
    "    def __init__(self, graph, env, possible_actions, gamma, ckpt_file):\n",
    "        self.graph = graph\n",
    "        self.env = env\n",
    "        self.possible_actions = possible_actions\n",
    "        self.gamma = gamma\n",
    "        self.ckpt_file = ckpt_file\n",
    "        self.saver = tf.train.Saver()\n",
    "        \n",
    "    def choose_action(self, input_state, session):\n",
    "        output_distribution = session.run(self.graph.output_distribution,\n",
    "                                          feed_dict={self.graph.input: np.expand_dims(input_state, axis=0)})\n",
    "\n",
    "        action = np.random.choice(np.arange(len(self.possible_actions)),\n",
    "                                  p=np.ravel(output_distribution))\n",
    "        \n",
    "        return action\n",
    "        \n",
    "    def run_episode(self, max_step, render, session):\n",
    "        state = self.env.reset()\n",
    "        total_reward = 0\n",
    "\n",
    "        for step in range(max_step):\n",
    "            action = self.choose_action(state, session)\n",
    "\n",
    "            # Apply action to env and get next state, reward, and done bool\n",
    "            state, reward, done, _ = self.env.step(action)\n",
    "\n",
    "            if render:\n",
    "                self.env.render()\n",
    "            \n",
    "            total_reward += reward\n",
    "\n",
    "            if done:\n",
    "                break\n",
    "\n",
    "        print(\"Reward on episode: %f\" % total_reward)\n",
    "        \n",
    "    def train_on_episode(self, states, actions, discounted_rewards, session):\n",
    "        \n",
    "        loss, _ = session.run([self.graph.loss, self.graph.train_op],\n",
    "                              feed_dict={self.graph.input: states,\n",
    "                                         self.graph.action: actions,\n",
    "                                         self.graph.discounted_reward: discounted_rewards})\n",
    "        \n",
    "        return loss\n",
    "         \n",
    "    def play_and_learn(self, n_episodes, print_eval, save_after, session):\n",
    "        \n",
    "        for ep in range(1, n_episodes + 1):\n",
    "            state = self.env.reset()\n",
    "            states, actions, rewards = [], [], []\n",
    "            \n",
    "            while True:\n",
    "                action = self.choose_action(state, session)\n",
    "\n",
    "                # Apply action to env and get next state, reward, and done bool\n",
    "                next_state, reward, done, _ = self.env.step(action)\n",
    "                \n",
    "                states.append(state)\n",
    "                actions.append(action)\n",
    "                rewards.append(reward)\n",
    "                \n",
    "                state = next_state\n",
    "                \n",
    "                if done:\n",
    "                    discounted_rewards = compute_discounted_rewards(rewards, self.gamma)\n",
    "                    actions = self.possible_actions[actions]\n",
    "\n",
    "                    last_loss = self.train_on_episode(states, actions, discounted_rewards, session)\n",
    "                    break\n",
    "                \n",
    "            if ep % print_eval == 0:\n",
    "                print(\"Reward on last episode: %f\" % np.sum(rewards))\n",
    "                \n",
    "            if ep % save_after == 0:\n",
    "                self.saver.save(sess, self.ckpt_file)\n",
    "                print(\"Saved model after %i episodes.\" % ep)\n",
    "                \n",
    "    def restore(self, session):\n",
    "        self.saver.restore(session, self.ckpt_file)"
   ]
  },
  {
   "cell_type": "code",
   "execution_count": 8,
   "metadata": {},
   "outputs": [],
   "source": [
    "env.close()"
   ]
  },
  {
   "cell_type": "code",
   "execution_count": 9,
   "metadata": {},
   "outputs": [],
   "source": [
    "env = gym.make('CartPole-v0')\n",
    "env._max_episode_steps = 2500"
   ]
  },
  {
   "cell_type": "code",
   "execution_count": 10,
   "metadata": {},
   "outputs": [],
   "source": [
    "state_size = 4\n",
    "\n",
    "possible_actions = np.identity(env.action_space.n, dtype=int)\n",
    "nb_actions = env.action_space.n\n",
    "\n",
    "learning_rate = 0.01\n",
    "gamma = 0.95\n",
    "\n",
    "n_episodes_learning = 600\n",
    "\n",
    "print_eval = 200\n",
    "save_after = 200\n",
    "ckpt_file = \"./models/model.ckpt\""
   ]
  },
  {
   "cell_type": "code",
   "execution_count": 11,
   "metadata": {
    "scrolled": true
   },
   "outputs": [
    {
     "name": "stdout",
     "output_type": "stream",
     "text": [
      "Reward on last episode: 215.000000\n",
      "Saved model after 200 episodes.\n",
      "Reward on last episode: 425.000000\n",
      "Saved model after 400 episodes.\n",
      "Reward on last episode: 2500.000000\n",
      "Saved model after 600 episodes.\n"
     ]
    }
   ],
   "source": [
    "tf.reset_default_graph()\n",
    "\n",
    "sess = tf.Session()\n",
    "\n",
    "pg_graph = PolicyGradientGraph(state_size, nb_actions, learning_rate, \"pg_graph\")\n",
    "pg_trainer = PolicyGradientTrainer(pg_graph, env, possible_actions, gamma, ckpt_file)\n",
    "\n",
    "sess.run(tf.global_variables_initializer())\n",
    "\n",
    "pg_trainer.play_and_learn(n_episodes=n_episodes_learning,\n",
    "                          print_eval=print_eval, save_after=save_after,\n",
    "                          session=sess)"
   ]
  },
  {
   "cell_type": "code",
   "execution_count": 13,
   "metadata": {},
   "outputs": [
    {
     "name": "stdout",
     "output_type": "stream",
     "text": [
      "INFO:tensorflow:Restoring parameters from ./models/model.ckpt\n",
      "Reward on episode: 2500.000000\n"
     ]
    }
   ],
   "source": [
    "# Test\n",
    "\n",
    "pg_trainer.restore(sess, ckpt_file)\n",
    "pg_trainer.run_episode(max_step=2500, render=True,\n",
    "                       session=sess)"
   ]
  },
  {
   "cell_type": "code",
   "execution_count": null,
   "metadata": {},
   "outputs": [],
   "source": []
  }
 ],
 "metadata": {
  "kernelspec": {
   "display_name": "Python 3",
   "language": "python",
   "name": "python3"
  },
  "language_info": {
   "codemirror_mode": {
    "name": "ipython",
    "version": 3
   },
   "file_extension": ".py",
   "mimetype": "text/x-python",
   "name": "python",
   "nbconvert_exporter": "python",
   "pygments_lexer": "ipython3",
   "version": "3.7.2"
  }
 },
 "nbformat": 4,
 "nbformat_minor": 2
}
